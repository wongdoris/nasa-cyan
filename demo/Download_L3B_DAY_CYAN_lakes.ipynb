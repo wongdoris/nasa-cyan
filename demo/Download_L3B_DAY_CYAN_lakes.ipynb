{
 "cells": [
  {
   "cell_type": "code",
   "execution_count": 1,
   "id": "15dc0290",
   "metadata": {},
   "outputs": [],
   "source": [
    "import os\n",
    "import datetime\n",
    "import pandas as pd\n",
    "import numpy as np\n",
    "import requests\n",
    "import xarray as xr\n"
   ]
  },
  {
   "cell_type": "code",
   "execution_count": 2,
   "id": "1a07d862",
   "metadata": {},
   "outputs": [],
   "source": [
    "def getL3Burl(instr_name, prod_suff, temp_res, target_dt):\n",
    "    from datetime import timedelta\n",
    "    satfileurl = ''\n",
    "    if 'MERIS' in instr_name:\n",
    "        if 'DAY' in temp_res:\n",
    "            l3filename = target_dt.strftime('M%Y%j.L3b_DAY_CYAN.nc')\n",
    "        elif '7D' in temp_res:\n",
    "            idyjul = int(target_dt.strftime('%j')) - 1\n",
    "            idyjul_hi = 7 * (1 + int(idyjul / 7)) #calculate the next number divisible by 7\n",
    "            dt_hi = target_dt + timedelta(days=idyjul_hi-idyjul-1)\n",
    "            dt_lo = dt_hi - timedelta(days=6)\n",
    "            l3filename = dt_lo.strftime('M%Y%j') + dt_hi.strftime('%Y%j.L3b_7D_'+ prod_suff + '.nc') #MERIS 7-day L3b\n",
    "        else:\n",
    "            print('ERROR - Bad temporal specification:',temp_res)\n",
    "            return ''\n",
    "    elif 'OLCI' in instr_name:\n",
    "        if 'DAY' in temp_res:\n",
    "            l3filename = target_dt.strftime('L%Y%j.L3b_DAY_CYAN.nc')\n",
    "            #l3filename = target_dt.strftime('L%Y%j.L3m_DAY_CYAN_CI_cyano_CYAN_CONUS_300m.tif') #OLCI daily L3b\n",
    "        elif '7D' in temp_res: #L20170152017021.L3b_7D_S3A_CYAN.nc\n",
    "            idyjul = int(target_dt.strftime('%j')) - 1\n",
    "            idyjul_hi = 7 * (1 + int(idyjul / 7)) #calculate the next number divisible by 7\n",
    "            dt_hi = target_dt + timedelta(days=idyjul_hi-idyjul-1)\n",
    "            dt_lo = dt_hi - timedelta(days=6)\n",
    "            l3filename = dt_lo.strftime('L%Y%j') + dt_hi.strftime('%Y%j.L3b_7D_S3A_' + prod_suff + '.nc') \n",
    "            #MERIS 7-day L3b\n",
    "        else:\n",
    "            print('ERROR - Bad temporal specification:',temp_res)\n",
    "            return ''\n",
    "    else:\n",
    "        print('ERROR - Bad instrument specification:',instr_name)\n",
    "        return ''\n",
    "\n",
    "    return 'https://oceandata.sci.gsfc.nasa.gov/cgi/getfile/' + l3filename\n",
    "\n",
    "\n",
    "def load_L3Burl(url, filecache=False, cache_dir='./data/L3B'):\n",
    "    '''\n",
    "    Load or download (filecache=True) an L3B file given URL\n",
    "    '''\n",
    "    from netrc import netrc\n",
    "    from aiohttp import BasicAuth\n",
    "    import fsspec\n",
    "    \n",
    "    usr, _, pwd = netrc().authenticators(\"urs.earthdata.nasa.gov\")\n",
    "    auth = BasicAuth(usr, pwd)\n",
    "    \n",
    "    if filecache:\n",
    "        fs = fsspec.filesystem(\n",
    "            \"filecache\",\n",
    "            cache_storage=cache_dir,\n",
    "            target_protocol=\"https\",\n",
    "            target_options={\"client_kwargs\": {\"auth\": auth}},\n",
    "        )\n",
    "        \n",
    "    else:\n",
    "        fs = fsspec.filesystem('simplecache',\n",
    "            target_protocol=\"https\",\n",
    "            target_options={\"client_kwargs\": {\"auth\": auth}},\n",
    "        )\n",
    "\n",
    "    ds = xr.open_dataset(fs.open(url), group=\"level-3_binned_data\")\n",
    "        \n",
    "    return ds\n",
    "\n",
    "\n",
    "def process_L3B_file(ds):\n",
    "    '''\n",
    "    Process L3b_DAY_CYAN nc file into pandas dataframe, convert bins to lat/lon location\n",
    "    '''\n",
    "    df_BinIndex = pd.DataFrame(ds.BinIndex.values).reset_index()\n",
    "\n",
    "    df = pd.DataFrame(ds.BinList.values)\n",
    "    for k in list(ds.keys())[1:-1]:\n",
    "        tmp = pd.DataFrame(ds[k].values)\n",
    "        df[k] = tmp['sum']\n",
    "\n",
    "    out = pd.merge_asof(left=df, right=df_BinIndex, left_on=\"bin_num\", right_on=\"start_num\", direction='backward')\n",
    "\n",
    "    nrows = ds.sizes['binIndexDim']\n",
    "    latbin = (np.arange(0, nrows, dtype=np.float_) + 0.5) * (180.0 / nrows) - 90.0\n",
    "    out['clat'] = out['index'].apply(lambda x: latbin[x])\n",
    "    out['clon'] = (360.0 * (out['bin_num'] - out['start_num'] + 0.5) / out['max']) - 180.0\n",
    "    out['north'] = out['clat'] + (90.0 / nrows)\n",
    "    out['south'] = out['clat'] - (90.0 / nrows)\n",
    "    out['west'] = out['clon'] - (180.0 / out['max'])\n",
    "    out['east'] = out['clon'] + (180.0 / out['max'])\n",
    "    \n",
    "    out_cols = ['bin_num', 'CI_stumpf','CI_cyano', 'CI_noncyano', 'MCI_stumpf', \n",
    "                'clat','clon', 'north', 'south', 'west', 'east']\n",
    "    \n",
    "    return out[out_cols]\n"
   ]
  },
  {
   "cell_type": "markdown",
   "id": "2d09da68",
   "metadata": {},
   "source": [
    "## Download daily data for April 1 - 30, 2024"
   ]
  },
  {
   "cell_type": "code",
   "execution_count": 3,
   "id": "748eab76",
   "metadata": {},
   "outputs": [
    {
     "data": {
      "text/plain": [
       "29"
      ]
     },
     "execution_count": 3,
     "metadata": {},
     "output_type": "execute_result"
    }
   ],
   "source": [
    "def convert_int_to_datetime_manual(date_int):\n",
    "    year = date_int // 10000\n",
    "    month = (date_int % 10000) // 100\n",
    "    day = date_int % 100\n",
    "    return datetime.date(year, month, day)\n",
    "\n",
    "day_first = convert_int_to_datetime_manual(20240401)\n",
    "day_last = convert_int_to_datetime_manual(20240430)\n",
    "(day_last - day_first).days"
   ]
  },
  {
   "cell_type": "code",
   "execution_count": 4,
   "id": "b63ca9b2",
   "metadata": {},
   "outputs": [
    {
     "name": "stdout",
     "output_type": "stream",
     "text": [
      "2024-04-01 : Processing https://oceandata.sci.gsfc.nasa.gov/cgi/getfile/L2024092.L3b_DAY_CYAN.nc\n",
      "  Complete:  (6690548, 12)\n",
      "2024-04-02 : Processing https://oceandata.sci.gsfc.nasa.gov/cgi/getfile/L2024093.L3b_DAY_CYAN.nc\n",
      "  Complete:  (6255716, 12)\n",
      "2024-04-03 : Processing https://oceandata.sci.gsfc.nasa.gov/cgi/getfile/L2024094.L3b_DAY_CYAN.nc\n",
      "  Complete:  (6106833, 12)\n",
      "2024-04-04 : Processing https://oceandata.sci.gsfc.nasa.gov/cgi/getfile/L2024095.L3b_DAY_CYAN.nc\n",
      "  Complete:  (6117719, 12)\n",
      "2024-04-05 : Processing https://oceandata.sci.gsfc.nasa.gov/cgi/getfile/L2024096.L3b_DAY_CYAN.nc\n",
      "  Complete:  (9454355, 12)\n",
      "2024-04-06 : Processing https://oceandata.sci.gsfc.nasa.gov/cgi/getfile/L2024097.L3b_DAY_CYAN.nc\n",
      "  Complete:  (9060560, 12)\n",
      "2024-04-07 : Processing https://oceandata.sci.gsfc.nasa.gov/cgi/getfile/L2024098.L3b_DAY_CYAN.nc\n",
      "  Complete:  (8532687, 12)\n",
      "2024-04-08 : Processing https://oceandata.sci.gsfc.nasa.gov/cgi/getfile/L2024099.L3b_DAY_CYAN.nc\n",
      "  Complete:  (6702112, 12)\n",
      "2024-04-09 : Processing https://oceandata.sci.gsfc.nasa.gov/cgi/getfile/L2024100.L3b_DAY_CYAN.nc\n",
      "  Complete:  (8324963, 12)\n",
      "2024-04-10 : Processing https://oceandata.sci.gsfc.nasa.gov/cgi/getfile/L2024101.L3b_DAY_CYAN.nc\n",
      "  Complete:  (8539723, 12)\n",
      "2024-04-11 : Processing https://oceandata.sci.gsfc.nasa.gov/cgi/getfile/L2024102.L3b_DAY_CYAN.nc\n",
      "  Complete:  (6036476, 12)\n",
      "2024-04-12 : Processing https://oceandata.sci.gsfc.nasa.gov/cgi/getfile/L2024103.L3b_DAY_CYAN.nc\n",
      "  Complete:  (6188631, 12)\n",
      "2024-04-13 : Processing https://oceandata.sci.gsfc.nasa.gov/cgi/getfile/L2024104.L3b_DAY_CYAN.nc\n",
      "  Complete:  (9634904, 12)\n",
      "2024-04-14 : Processing https://oceandata.sci.gsfc.nasa.gov/cgi/getfile/L2024105.L3b_DAY_CYAN.nc\n",
      "  Complete:  (9429545, 12)\n",
      "2024-04-15 : Processing https://oceandata.sci.gsfc.nasa.gov/cgi/getfile/L2024106.L3b_DAY_CYAN.nc\n",
      "  Complete:  (9878046, 12)\n",
      "2024-04-16 : Processing https://oceandata.sci.gsfc.nasa.gov/cgi/getfile/L2024107.L3b_DAY_CYAN.nc\n",
      "  Complete:  (7842407, 12)\n",
      "2024-04-17 : Processing https://oceandata.sci.gsfc.nasa.gov/cgi/getfile/L2024108.L3b_DAY_CYAN.nc\n",
      "  Complete:  (7081760, 12)\n",
      "2024-04-18 : Processing https://oceandata.sci.gsfc.nasa.gov/cgi/getfile/L2024109.L3b_DAY_CYAN.nc\n",
      "  Complete:  (7749991, 12)\n",
      "2024-04-19 : Processing https://oceandata.sci.gsfc.nasa.gov/cgi/getfile/L2024110.L3b_DAY_CYAN.nc\n",
      "  Complete:  (7381949, 12)\n",
      "2024-04-20 : Processing https://oceandata.sci.gsfc.nasa.gov/cgi/getfile/L2024111.L3b_DAY_CYAN.nc\n",
      "  Complete:  (5069428, 12)\n",
      "2024-04-21 : Processing https://oceandata.sci.gsfc.nasa.gov/cgi/getfile/L2024112.L3b_DAY_CYAN.nc\n",
      "  Complete:  (7543757, 12)\n",
      "2024-04-22 : Processing https://oceandata.sci.gsfc.nasa.gov/cgi/getfile/L2024113.L3b_DAY_CYAN.nc\n",
      "  Complete:  (8506685, 12)\n",
      "2024-04-23 : Processing https://oceandata.sci.gsfc.nasa.gov/cgi/getfile/L2024114.L3b_DAY_CYAN.nc\n",
      "  Complete:  (8070833, 12)\n",
      "2024-04-24 : Processing https://oceandata.sci.gsfc.nasa.gov/cgi/getfile/L2024115.L3b_DAY_CYAN.nc\n",
      "  Complete:  (8898559, 12)\n",
      "2024-04-25 : Processing https://oceandata.sci.gsfc.nasa.gov/cgi/getfile/L2024116.L3b_DAY_CYAN.nc\n",
      "  Complete:  (10463083, 12)\n",
      "2024-04-26 : Processing https://oceandata.sci.gsfc.nasa.gov/cgi/getfile/L2024117.L3b_DAY_CYAN.nc\n",
      "  Complete:  (8923435, 12)\n",
      "2024-04-27 : Processing https://oceandata.sci.gsfc.nasa.gov/cgi/getfile/L2024118.L3b_DAY_CYAN.nc\n",
      "  Complete:  (826899, 12)\n",
      "2024-04-28 : Processing https://oceandata.sci.gsfc.nasa.gov/cgi/getfile/L2024119.L3b_DAY_CYAN.nc\n",
      "  Complete:  (6605888, 12)\n",
      "2024-04-29 : Processing https://oceandata.sci.gsfc.nasa.gov/cgi/getfile/L2024120.L3b_DAY_CYAN.nc\n",
      "  Complete:  (7573894, 12)\n",
      "2024-04-30 : Processing https://oceandata.sci.gsfc.nasa.gov/cgi/getfile/L2024121.L3b_DAY_CYAN.nc\n",
      "  Complete:  (6896297, 12)\n",
      "(226387683, 12)\n",
      "CPU times: user 7min 33s, sys: 10min 18s, total: 17min 51s\n",
      "Wall time: 27min 53s\n"
     ]
    }
   ],
   "source": [
    "%%time\n",
    "\n",
    "local = \"./data/L3B/\"\n",
    "df = pd.DataFrame()\n",
    "\n",
    "for i in range((day_last - day_first).days+1):\n",
    "    \n",
    "    day_of = day_first + datetime.timedelta(days=i)\n",
    "    url = getL3Burl(instr_name='OLCI', prod_suff='CYAN', temp_res='DAY', target_dt=day_of)\n",
    "    fn = url.split('/')[-1]\n",
    "    print(day_of, \": Processing\", url)\n",
    "    try:\n",
    "        r = requests.get(url)\n",
    "        with open(local + fn, 'wb') as f:\n",
    "            f.write(r.content)\n",
    "\n",
    "        ds = xr.open_dataset(local + fn, group=\"level-3_binned_data\")\n",
    "        \n",
    "        df_tmp = process_L3B_file(ds=ds)\n",
    "        df_tmp['date'] = day_of\n",
    "        df = pd.concat([df, df_tmp], axis=0)\n",
    "        print(\"  Complete: \", df_tmp.shape)\n",
    "        \n",
    "        os.remove(local + fn)\n",
    "        \n",
    "    except:\n",
    "        print(\"No data for\", day_of)\n",
    "        \n",
    "print(df.shape)"
   ]
  },
  {
   "cell_type": "code",
   "execution_count": 5,
   "id": "ef9ec64e",
   "metadata": {},
   "outputs": [
    {
     "name": "stdout",
     "output_type": "stream",
     "text": [
      "CPU times: user 2.64 s, sys: 9.89 s, total: 12.5 s\n",
      "Wall time: 15.7 s\n"
     ]
    },
    {
     "data": {
      "text/plain": [
       "(3913, 12)"
      ]
     },
     "execution_count": 5,
     "metadata": {},
     "output_type": "execute_result"
    }
   ],
   "source": [
    "%%time\n",
    "# Jordan Lake\n",
    "targ_lat = [35.676263, 35.885728]\n",
    "targ_lon = [-79.07959, -78.95462]\n",
    "\n",
    "df_jordan = df.loc[(df.west>=np.min(targ_lon)) &\n",
    "                    (df.east<=np.max(targ_lon)) &\n",
    "                    (df.south>=np.min(targ_lat)) &\n",
    "                    (df.north<=np.max(targ_lat))]\n",
    "\n",
    "df_jordan.shape"
   ]
  },
  {
   "cell_type": "code",
   "execution_count": 6,
   "id": "677de208",
   "metadata": {},
   "outputs": [
    {
     "name": "stdout",
     "output_type": "stream",
     "text": [
      "CPU times: user 1.75 s, sys: 1.08 s, total: 2.83 s\n",
      "Wall time: 3 s\n"
     ]
    },
    {
     "data": {
      "text/plain": [
       "(4252, 12)"
      ]
     },
     "execution_count": 6,
     "metadata": {},
     "output_type": "execute_result"
    }
   ],
   "source": [
    "%%time\n",
    "# Lake Mendota\n",
    "max_deg = 0.1\n",
    "lat = 43.175\n",
    "lon = -89.465\n",
    "north = lat + max_deg\n",
    "south = lat - max_deg\n",
    "east = lon + max_deg\n",
    "west = lon - max_deg\n",
    "targ_lat = [south, north]\n",
    "targ_lon = [west, east]\n",
    "\n",
    "df_mendota = df.loc[(df.west>=np.min(targ_lon)) &\n",
    "                    (df.east<=np.max(targ_lon)) &\n",
    "                    (df.south>=np.min(targ_lat)) &\n",
    "                    (df.north<=np.max(targ_lat))]\n",
    "\n",
    "df_mendota.shape"
   ]
  },
  {
   "cell_type": "code",
   "execution_count": 7,
   "id": "8f0ccb55",
   "metadata": {},
   "outputs": [
    {
     "name": "stdout",
     "output_type": "stream",
     "text": [
      "CPU times: user 1.59 s, sys: 1.1 s, total: 2.69 s\n",
      "Wall time: 2.85 s\n"
     ]
    },
    {
     "data": {
      "text/plain": [
       "(29196, 12)"
      ]
     },
     "execution_count": 7,
     "metadata": {},
     "output_type": "execute_result"
    }
   ],
   "source": [
    "%%time\n",
    "# Lake Mattamuskeet\n",
    "max_deg = 0.1\n",
    "lat = 35.5\n",
    "lon = -76.2\n",
    "north = lat + max_deg\n",
    "south = lat - max_deg\n",
    "east = lon + max_deg\n",
    "west = lon - max_deg\n",
    "targ_lat = [south, north]\n",
    "targ_lon = [west, east]\n",
    "\n",
    "df_matt = df.loc[(df.west>=np.min(targ_lon)) &\n",
    "                    (df.east<=np.max(targ_lon)) &\n",
    "                    (df.south>=np.min(targ_lat)) &\n",
    "                    (df.north<=np.max(targ_lat))]\n",
    "\n",
    "df_matt.shape"
   ]
  },
  {
   "cell_type": "code",
   "execution_count": 8,
   "id": "30f5fefc",
   "metadata": {},
   "outputs": [
    {
     "name": "stdout",
     "output_type": "stream",
     "text": [
      "Jordan: (332990, 12)\n",
      "Mendota: (236013, 12)\n",
      "Mattamuskeet: (1811653, 12)\n",
      "CPU times: user 460 ms, sys: 553 ms, total: 1.01 s\n",
      "Wall time: 1.7 s\n"
     ]
    }
   ],
   "source": [
    "%%time\n",
    "path1 = './data/L3B/L3B_CYAN_DAILY_JORDAN.parquet'\n",
    "path2 = './data/L3B/L3B_CYAN_DAILY_MENDOTA.parquet'\n",
    "path3 = './data/L3B/L3B_CYAN_DAILY_MATT.parquet'\n",
    "\n",
    "d1 = pd.read_parquet(path1)\n",
    "d2 = pd.read_parquet(path2)\n",
    "d3 = pd.read_parquet(path3)\n",
    "print('Jordan:', d1.shape)\n",
    "print('Mendota:', d2.shape)\n",
    "print('Mattamuskeet:', d3.shape)"
   ]
  },
  {
   "cell_type": "code",
   "execution_count": 9,
   "id": "fe40a17f",
   "metadata": {},
   "outputs": [
    {
     "name": "stdout",
     "output_type": "stream",
     "text": [
      "Jordan: (336903, 12)\n",
      "Mendota: (240265, 12)\n",
      "Mattamuskeet: (1840849, 12)\n",
      "CPU times: user 89.7 ms, sys: 94.3 ms, total: 184 ms\n",
      "Wall time: 252 ms\n"
     ]
    }
   ],
   "source": [
    "%%time\n",
    "d1 = pd.concat([d1, df_jordan], axis=0)\n",
    "d2 = pd.concat([d2, df_mendota], axis=0)\n",
    "d3 = pd.concat([d3, df_matt], axis=0)\n",
    "print('Jordan:', d1.shape)\n",
    "print('Mendota:', d2.shape)\n",
    "print('Mattamuskeet:', d3.shape)"
   ]
  },
  {
   "cell_type": "code",
   "execution_count": 10,
   "id": "57b9d0b6",
   "metadata": {},
   "outputs": [
    {
     "name": "stdout",
     "output_type": "stream",
     "text": [
      "CPU times: user 909 ms, sys: 74.3 ms, total: 984 ms\n",
      "Wall time: 921 ms\n"
     ]
    }
   ],
   "source": [
    "%%time\n",
    "d1.to_parquet(path1)\n",
    "d2.to_parquet(path2)\n",
    "d3.to_parquet(path3)"
   ]
  },
  {
   "cell_type": "code",
   "execution_count": null,
   "id": "d249ded2",
   "metadata": {},
   "outputs": [],
   "source": []
  }
 ],
 "metadata": {
  "kernelspec": {
   "display_name": "Python 3 (ipykernel)",
   "language": "python",
   "name": "python3"
  },
  "language_info": {
   "codemirror_mode": {
    "name": "ipython",
    "version": 3
   },
   "file_extension": ".py",
   "mimetype": "text/x-python",
   "name": "python",
   "nbconvert_exporter": "python",
   "pygments_lexer": "ipython3",
   "version": "3.10.12"
  }
 },
 "nbformat": 4,
 "nbformat_minor": 5
}
